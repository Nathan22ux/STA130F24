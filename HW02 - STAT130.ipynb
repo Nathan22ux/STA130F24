{
 "cells": [
  {
   "cell_type": "code",
   "execution_count": 25,
   "id": "4974cebb",
   "metadata": {},
   "outputs": [],
   "source": [
    "#PRE-LECTURE HW02"
   ]
  },
  {
   "cell_type": "code",
   "execution_count": 26,
   "id": "11647adb",
   "metadata": {},
   "outputs": [
    {
     "data": {
      "text/plain": [
       "0.66615"
      ]
     },
     "execution_count": 26,
     "metadata": {},
     "output_type": "execute_result"
    }
   ],
   "source": [
    "#Question 1 + 2 + 3 + 4(PRE-LECTURE)\n",
    "\n",
    "\"\"\"\n",
    "__________________________________________________________________________________________________________________\n",
    "\n",
    "import numpy as np\n",
    "all_door_options = (1,2,3)  # tuple\n",
    "my_door_choice = 1  # 1,2,3\n",
    "i_won = 0\n",
    "reps = 100000\n",
    "for i in range(reps):\n",
    "    secret_winning_door = np.random.choice(all_door_options)\n",
    "    all_door_options_list = list(all_door_options)\n",
    "    # take the secret_winning_door, so we don't show it as a \"goat\" losing door\n",
    "    all_door_options_list.remove(secret_winning_door)\n",
    "    try:\n",
    "        # if my_door_choice was secret_winning_door then it's already removed\n",
    "        all_door_options_list.remove(my_door_choice)\n",
    "    except:\n",
    "        pass\n",
    "    # show a \"goat\" losing door and remove it\n",
    "    goat_door_reveal = np.random.choice(all_door_options_list)\n",
    "    all_door_options_list.remove(goat_door_reveal)\n",
    "\n",
    "    # put the secret_winning_door back in if it wasn't our choice\n",
    "    # we previously removed it, so it would be shown as a  \"goat\" losing door\n",
    "    if secret_winning_door != my_door_choice:\n",
    "        all_door_options_list.append(secret_winning_door)\n",
    "    # if secret_winning_door was our choice then all that's left in the list is a \"goat\" losing door\n",
    "    # if secret_winning_door wasn't our choice then it's all that will be left in the list\n",
    "\n",
    "    # swap strategy\n",
    "    my_door_choice = all_door_options_list[0]\n",
    "\n",
    "    if my_door_choice == secret_winning_door:\n",
    "        i_won += 1\n",
    "\n",
    "i_won/reps\n",
    "__________________________________________________________________________________________________________________\n",
    "\"\"\"\n",
    "\n",
    "\n",
    "#Newly more proficient code made by ChatBot\n",
    "\n",
    "import numpy as np\n",
    "\n",
    "#simulation parameters\n",
    "reps = 100000\n",
    "i_won = 0\n",
    "\n",
    "#run the simulation\n",
    "for _ in range(reps):\n",
    "#randomly choose the winning door and player's initial choice\n",
    "    secret_winning_door = np.random.randint(1, 4)\n",
    "    my_door_choice = np.random.randint(1, 4)\n",
    "\n",
    "#simulates the player's choice to always switch\n",
    "#the door to switch to is always the remaining (not chosen) door that Monty didn't reveal\n",
    "    if my_door_choice != secret_winning_door:\n",
    "        i_won += 1\n",
    "\n",
    "#calculates the winning probability\n",
    "winning_probability = i_won / reps\n",
    "winning_probability"
   ]
  },
  {
   "cell_type": "code",
   "execution_count": 27,
   "id": "b74fde09",
   "metadata": {},
   "outputs": [],
   "source": [
    "\n",
    "#This new version compared to the older version is alot simpler.\n",
    "# ---> In the originial code the player would always choose the first door whereas in this one it is randomly selected aligning more to what the monty hall problem actually is\n",
    "# ---> Also made it more efficient by removing the tuple and list changes and instead a more direct approach on weather the player wins or not by choosing the initial door.\n",
    "#ChatBot Link: https://chatgpt.com/share/66eb7a65-6364-8007-9dca-cf457c28d25b"
   ]
  },
  {
   "cell_type": "code",
   "execution_count": 28,
   "id": "2c83302c",
   "metadata": {},
   "outputs": [],
   "source": [
    "#Post-Lecture Questions \n",
    "#6 ____________________\n",
    "\n",
    "#6.1 - Discuss how quickly the ChatBot was able to be helpful for each of the above questions, and if so, how?\n",
    "# To be honest the chatbot was able to be helpful quite quickly.\n",
    "# For example, for the Markovian ChatBot when it was explaining the code it would give direct references and exlpain small sections of code.\n",
    "# This helped since it would break it down bit by bit making it much easier to understand in my opionion rather than just jumping at all of the code at once.\n",
    "# Since I have a bit of python knowledge already in my opinion it made it more than easy to understand when it broke everything down (maybe too easy as some times which was very helpful)\n",
    "\n",
    "#.62\n",
    "# sometimes it was a bit frusturating because although it was breaking down the code pretty well it would skip over small segments.\n",
    "# For exmaple for the markovian code for some of the code like the repetitive \"if\" statements it would explain one then skip the next during the explanation since it assumed you'd understand what was going on in the next line even though it would be different.\n",
    "# Other than that though I didnt find it too frusturating \n",
    "\n",
    "#6.3\n",
    "#Overall I think chatbots are very useful when having to explain code. \n",
    "#I find when comparing it to when I'd have to search the issues up the chatbot would be much more helpful because it would be unqiue to what your asking and not jsut a general response.\n",
    "# The main difference between googling something and using a chatbot is the chatbot will kind of tailor its response to your specific situation with your code rather than having a general response from someone online.\n",
    "# So in conclusion, I find chatbots to be very useful when it comes to breaking things down and explaining the code\n",
    "\n",
    "\n",
    "#ChatBot Session Link: https://chatgpt.com/share/66eb809d-7184-8007-9c28-f9d2206d996b"
   ]
  },
  {
   "cell_type": "code",
   "execution_count": 24,
   "id": "7afc465e",
   "metadata": {},
   "outputs": [],
   "source": [
    "# Question #8\n",
    "\n",
    "#8.1 - (just the chatbot talking, no writing required, conversation link at #3)\n",
    "\n",
    "#8.2 - (just the chatbot talking, no writing required, conversation link at #3)\n",
    "\n",
    "#8.3 - SUMMARY OF CONVERSATION ---- Link to session: https://chatgpt.com/share/66eb82aa-ec24-8007-bad7-984904e61f15\n",
    "#Summary:\n",
    "# This conversation covered the relevance of key skills like learning and adaptability, communication, coding, and statistics/data analysis in the modern world, especially for careers in data science. We discussed how each skill is essential, particularly in data-driven fields like machine learning and data science, where continuous learning and strong communication play crucial roles alongside technical expertise in coding and statistics.\n",
    "# We explored career opportunities such as machine learning engineer, data scientist, statistician, AI researcher, data analyst, and more. For each role, we examined the required skills, emphasizing the importance of coding and statistical knowledge. While some managerial or consulting positions might not involve heavy coding or direct data analysis, these roles still require a deep understanding of statistical principles and data science processes.\n",
    "# Finally, the role of statistics was highlighted as foundational to machine learning and data science, influencing model development, optimization, and interpretation.\n",
    "\n",
    "\n",
    "#8.4 - Reflection\n",
    "# While talking to ChatGpt I realized that alot more is required than meets the eye to pursue a career like maching learning engineer(what I was thinking of pursuing)\n",
    "# The conversation helped me realize that a simple youtube video or online course wont teach you the knowledge needed to jump into a field like this.\n",
    "# A more deep understanding would be needed in not only things like general computer science (like coding basics) but also within deeper topics within math and stats.\n",
    "# This helped me realize that majoring in Computer science alone wont be enough to persue the careers i've been looking at like a machine learning engineer or data scientist.\n",
    "# But taking another major like math or stats or even some minors would be required as ill need a deeper understanding of these topics, more than what only computer science would teach me.\n",
    "# I can go about building these skills by obviously taking the right desired courses aswell as putting in more effort within these classes to master the skills and knwledge im being teached so I can apply it later on.\n",
    "\n",
    "\n",
    "#8.5 \n",
    "# I found that Chatgpt did a decent job at giving the basics and a general view of what some careers require if you wanted to persue them.\n",
    "# To engage more into the conversation and to learn more I would've asked more specifics about soem of the careers.\n",
    "# For example for Data Science I'd ask more specifically what one might do at a company like google, what there everyday life might look like.\n",
    "# If Chatgpt coudlnt answer that then looking at youtube videos or articles about current or past Data Scientists would definitely help find the pros and cons of the career.\n",
    "# In general without asking chatgpt for a more in depth answer I found it gave a very general response for a bunch of career prospects and not much specified details.\n",
    "# As I'd like to call it it gave alot more quantity and less quality. \n",
    "# Overall though I found it to be very helpful as I wasnt too in-depth to the topics and it provided me with helpful information.\n",
    "# Although I did find it lacks information when going very into depth into things that something like chatgpt cant provide an answer to as its only the people who've lived through the job for exmaple can explain.\n",
    "# a robot cant simulate that.\n",
    "\n",
    "#Link to Session: Link to session: https://chatgpt.com/share/66eb82aa-ec24-8007-bad7-984904e61f15\n"
   ]
  },
  {
   "cell_type": "code",
   "execution_count": 29,
   "id": "e0fc54f5",
   "metadata": {},
   "outputs": [],
   "source": [
    "# Question 9\n",
    "#Answer: Somewhat"
   ]
  },
  {
   "cell_type": "code",
   "execution_count": null,
   "id": "addfcb32",
   "metadata": {},
   "outputs": [],
   "source": []
  }
 ],
 "metadata": {
  "kernelspec": {
   "display_name": "Python 3 (ipykernel)",
   "language": "python",
   "name": "python3"
  },
  "language_info": {
   "codemirror_mode": {
    "name": "ipython",
    "version": 3
   },
   "file_extension": ".py",
   "mimetype": "text/x-python",
   "name": "python",
   "nbconvert_exporter": "python",
   "pygments_lexer": "ipython3",
   "version": "3.11.6"
  }
 },
 "nbformat": 4,
 "nbformat_minor": 5
}

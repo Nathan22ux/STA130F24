{
 "cells": [
  {
   "cell_type": "markdown",
   "id": "00518a63",
   "metadata": {},
   "source": [
    "Proposal #1: How does income level predict self-reported mental health scores?\n",
    "\n",
    "Variables: What I can explore is if there is a correlation between someones mental health and their income level.\n",
    "\n",
    "Analysis: To see if there is a relationship we can use a linear regression to determine if there is a relationship between there mental health scores and income level. For example we could possibly use this model:\n",
    "\n",
    "Mental Health Score = Bo +B1 x income level + E\n",
    "\n",
    "Possible results: A possible possibility is that the reuslts indicate that income level has a positive or negative coefficient, suggesting that as income increases or decreases, the mental health score tends to improve or worsen. So, for example a result coudle be that a higher income corresponds with better mental health scores. The strength of the relationship can be tested through comparing it with the p-value.\n",
    "\n",
    "Relevance: This is related to our course project because by understanding how financial situations influence mental health, it can help policy makers focus efforts on improving economic conditions to enhance mental well-being.\n",
    "\n",
    "\n",
    "\n"
   ]
  },
  {
   "cell_type": "markdown",
   "id": "e133c526",
   "metadata": {},
   "source": [
    "___________________________________________________________________________________________________________________\n",
    "\n",
    "Proposal #2: Does employment status affect the rate of depression?\n",
    "\n",
    "Variables: Variables to explore would be whether an individual is employed or not (yes/no) and if that is associated to an individuals depression.\n",
    "\n",
    "Analysis: For this you can use a 2-sample proportion test to test whether there is a relationship or not. The hypothesis's that can be used for this is as follows: \n",
    "\n",
    "Null hypothesis (Ho): Employment status has no effect on rate of depression.\n",
    "\n",
    "Alternative hypothesis (H1): Employment status has an affect on rate of depression.\n",
    "\n",
    "How we can approach this is we calculate and observe the frequencies of depression among the employed and unemployed individuals and use the 2-sample proportion test to evaluate whether the observed distribution is significantly different from the expected distribution and to further determine if employment and depression are independent of one another.\n",
    "\n",
    "Possible results: If the p-value is below the significance level you can reject the null hypothesis and conclude that there is a significant association and vise-versa.\n",
    "\n",
    "Relevance: This is related to our course project because if employment significantly affects mental health, focusing on reducing unemployment could help improve public health and reduce mental health issues which is what our course project is generally about. Also if there does tend to be an association among the variables a further analysis of the locations the majority of the unemployed indivudals are located can help the government assess where more funding should go towards employment, further helping the mental health of individuals and finding where the root of the problem is situated.\n",
    "\n"
   ]
  },
  {
   "cell_type": "markdown",
   "id": "7ab50cf1",
   "metadata": {},
   "source": [
    "___________________________________________________________________________________________________________________\n",
    "Proposal #3: How does the frequency of social gatherings relate to depression scores?\n",
    "\n",
    "Variables: The data also provides the different type of gatherings an individual has and also thus how many (if you were to add them up), thus we can find if there is a correlation if an individual who is more active going to gatherings is more or less depressed than one who doesnt attend as many gatherings.\n",
    "\n",
    "Analysis: Once again we can use a linear regression to assess if there is a relationship. An exmaple of a model that could be used is as follows:\n",
    "\n",
    "Depression Score = Bo + B1 x number of gatherings x E\n",
    "\n",
    "Possible results: Once again the results might show a negative coefficient for the number of gatherings, suggesting that more gatherings are associated with a better depression score (better overall mental health). Or on the contrary a positive coefficient might indicate that more gatherings are associated with higher depression levels for individuals.\n",
    "\n",
    "Relevance: This is releated to our course project as the analysis could help determine whether social gatherings plays a positive role against depression, emphasizing the importance of social activities for positive mental health."
   ]
  },
  {
   "cell_type": "code",
   "execution_count": null,
   "id": "823e3361",
   "metadata": {},
   "outputs": [],
   "source": []
  }
 ],
 "metadata": {
  "kernelspec": {
   "display_name": "Python 3 (ipykernel)",
   "language": "python",
   "name": "python3"
  },
  "language_info": {
   "codemirror_mode": {
    "name": "ipython",
    "version": 3
   },
   "file_extension": ".py",
   "mimetype": "text/x-python",
   "name": "python",
   "nbconvert_exporter": "python",
   "pygments_lexer": "ipython3",
   "version": "3.11.6"
  }
 },
 "nbformat": 4,
 "nbformat_minor": 5
}

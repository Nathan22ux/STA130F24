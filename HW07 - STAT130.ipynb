{
 "cells": [
  {
   "cell_type": "markdown",
   "id": "4d36e5fd",
   "metadata": {},
   "source": [
    "Question 4:\n",
    "\n",
    "Chat Session Summary: https://chatgpt.com/share/673694b5-75d0-8007-a241-be8ddc6c52e9\n",
    "\n",
    "I found there appears to be a contradiction because I found that the statistical significance of the individual coefficients and the overall power of the model (which was measured by R-sqaured) reflected different aspects of the model's performance.\n",
    "\n",
    "For example for the signficant coefficients, the large coefficients with strong evidence again the null hypothesis indicate that the predictors (take \"Sp. Def\" for example) have a consistent and reliable effect on the dependent varaible (in this case HP). Pretty much this means changes in these predictors are associateed with substantial changes in HP and this relationship is statistically significant.\n",
    "\n",
    "On the other hand an R-sqaured of 17.6% means the model explains only 17.6% of the variability in HP. This showss that while the included predictors affect HP they do not capture most of the factors influencing it overall. This means there are other varaibles not included in the model that contribute to the remaining 82.4% of the variability.\n",
    "\n",
    "So, in the end, I found there is no true contradiction. The model's predictors have significant effects on HP but the model does not explain most of the variability in HP because it lacks the other important variables affecting it (the other 82.4% for example).\n"
   ]
  },
  {
   "cell_type": "markdown",
   "id": "31add547",
   "metadata": {},
   "source": [
    "___________________________________________________________________________________________________________________\n",
    "\n",
    "Question 7:\n",
    "\n",
    "Chat Session Summary: https://chatgpt.com/share/67368f23-faa8-8007-86c8-f66c886b3454\n",
    "\n",
    "What I found was that the progression from model 5 to 7 involved making the predictive model for HP better by focusing more on the signficant variables which overall simplified the moden and made the \"predicitive power\" better.\n",
    "\n",
    "Model 5: This model included a wide range of predictors: continuous varaibles like attack, defense, speed etc... along with categorical variables for generation and types 1 and 2. OVerall it captured all possible factors affecting HP by using both the numerical and categorical data.\n",
    "\n",
    "Model 6: This mdel simplified the overall model by removing less significant varaibles such as defense and legendary status for example, based on insights from model 5. This model kept only the most impactful continuous varables and inlcudes only specific significant categories for type 1 and geeneration. Overall this helped reduce the complexity which also helps prevent something called overfitting.\n",
    "\n",
    "Model 7: This model further ehanced the model by introducing interaction terms among the key continuous variables within it (e.g. Attack, Speed, Sp. Def). This helped capture the combined effects of these variables on HP. Additionally, centering and scaling these variables helped reduce something called multicollinearity and improved numerical stability within the model which helped lead to better predicitve performance comapred to the other models.\n",
    "\n",
    "In conclusion, overall the models evolved by selecting significant predictors, simplifying the structure, and incorperating interations to improve the overall accuracy and stability of the models."
   ]
  },
  {
   "cell_type": "markdown",
   "id": "604fd77b",
   "metadata": {},
   "source": [
    "___________________________________________________________________________________________________________________\n",
    "\n",
    "Question 9:\n",
    "\n",
    "Chat Session Summary: https://chatgpt.com/share/67369424-e020-8007-b725-594b8880f00a\n",
    "\n",
    "After looking at the code my takeaway was that the code evaluates how well regression models can predict Pokemon HP by training on data from specific generations and testing on others. For example, by fitting models on earlier generations (like generation 1) and assesing both something called 'in-sample' and 'out of sample' R squated values, it measured the models' ability to predict HP for newer generations. Overall this approach showed how patterns learned from past data can be applied to predict future outcomes."
   ]
  },
  {
   "cell_type": "code",
   "execution_count": null,
   "id": "ba7b9bc8",
   "metadata": {},
   "outputs": [],
   "source": []
  }
 ],
 "metadata": {
  "kernelspec": {
   "display_name": "Python 3 (ipykernel)",
   "language": "python",
   "name": "python3"
  },
  "language_info": {
   "codemirror_mode": {
    "name": "ipython",
    "version": 3
   },
   "file_extension": ".py",
   "mimetype": "text/x-python",
   "name": "python",
   "nbconvert_exporter": "python",
   "pygments_lexer": "ipython3",
   "version": "3.11.6"
  }
 },
 "nbformat": 4,
 "nbformat_minor": 5
}
